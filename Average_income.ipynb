{
 "cells": [
  {
   "cell_type": "code",
   "execution_count": null,
   "metadata": {},
   "outputs": [],
   "source": [
    "import matplotlib.pyplot as plt\n",
    "import numpy as np\n",
    "import pandas as pd"
   ]
  },
  {
   "cell_type": "code",
   "execution_count": null,
   "metadata": {},
   "outputs": [],
   "source": [
    "# Import Avrage income by county and years (2013 -2018) for state of NJ   \n",
    "csv_path = \"Source_File/Average_income_file_nj.csv\"\n",
    "NJ_Avg_income_df = pd.read_csv(csv_path)\n",
    "\n",
    "NJ_Avg_income_df.head()"
   ]
  },
  {
   "cell_type": "code",
   "execution_count": null,
   "metadata": {},
   "outputs": [],
   "source": [
    "NJ_Avg_income_df.count()"
   ]
  },
  {
   "cell_type": "code",
   "execution_count": null,
   "metadata": {},
   "outputs": [],
   "source": [
    "NJ_Avg_income_df = NJ_Avg_income_df.rename(columns={\"State\": \"State_Id\", \"Area_name\": \"County_Name\", \"Median_Household_Income_2013\": \"Avg_income_2013\", \n",
    "                                                          \"Median_Household_Income_2014\": \"Avg_income_2014\", \"Median_Household_Income_2015\": \"Avg_income_2015\", \n",
    "                                                          \"Median_Household_Income_2016\": \"Avg_income_2016\", \"Median_Household_Income_2017\": \"Avg_income_2017\",\n",
    "                                                          \"Median_Household_Income_2018\": \"Avg_income_2018\"})\n",
    "NJ_Avg_income_df.head()"
   ]
  },
  {
   "cell_type": "code",
   "execution_count": null,
   "metadata": {},
   "outputs": [],
   "source": [
    "NJ_Avg_income_df.columns"
   ]
  },
  {
   "cell_type": "code",
   "execution_count": null,
   "metadata": {},
   "outputs": [],
   "source": [
    "NJ_Avg_income_df = NJ_Avg_income_df.drop ([\"FIPS\",\" Employed_2013\",\" Unemployed_2013\",\" Employed_2014\",\" Unemployed_2014\",\n",
    "                        \" Employed_2015\",\" Unemployed_2015\",\" Employed_2016\",\" Unemployed_2016\",\n",
    "                        \"Employed_2017\",\"Unemployed_2017\", \"Employed_2018\",\"Unemployed_2018\"],axis = 1)\n",
    "NJ_Avg_income_df.head()"
   ]
  },
  {
   "cell_type": "code",
   "execution_count": null,
   "metadata": {},
   "outputs": [],
   "source": [
    "NJ_Avg_income_df=NJ_Avg_income_df[NJ_Avg_income_df.County_Name !='New Jersey']\n",
    "NJ_Avg_income_df.head()"
   ]
  },
  {
   "cell_type": "code",
   "execution_count": null,
   "metadata": {},
   "outputs": [],
   "source": [
    "NJ_Avg_income_df.columns=NJ_Avg_income_df.columns.str.replace('County, NJ','County')"
   ]
  },
  {
   "cell_type": "code",
   "execution_count": null,
   "metadata": {},
   "outputs": [],
   "source": [
    "NJ_Avg_income_df['County_Name'] = NJ_Avg_income_df['County_Name'].str.split(\",\", n=1,expand=True)"
   ]
  },
  {
   "cell_type": "code",
   "execution_count": null,
   "metadata": {},
   "outputs": [],
   "source": [
    "NJ_Avg_income_df"
   ]
  },
  {
   "cell_type": "code",
   "execution_count": null,
   "metadata": {},
   "outputs": [],
   "source": [
    "NJ_Avg_income_df=NJ_Avg_income_df.drop([\"Unemployment_rate_2013\",\"Unemployment_rate_2014\",\n",
    "                                                              \"Unemployment_rate_2015\",\"Unemployment_rate_2016\",\n",
    "                                                              \"Unemployment_rate_2017\",\"Unemployment_rate_2018\",],axis = 1)\n",
    "NJ_Avg_income_df.head()"
   ]
  },
  {
   "cell_type": "code",
   "execution_count": null,
   "metadata": {},
   "outputs": [],
   "source": [
    "NJ_Avg_income_df.columns"
   ]
  },
  {
   "cell_type": "code",
   "execution_count": null,
   "metadata": {},
   "outputs": [],
   "source": [
    "NJ_Avg_income_df = NJ_Avg_income_df\n",
    "County = ['County_Name']\n",
    "Year = [0, 150000]\n",
    "plt.plot (County, Year)\n",
    "Plt.plot(kind='line')\n",
    "plt.title('Average Income By County Per Year')\n",
    "plt.ylabel('Years 2013 - 2018')\n",
    "plt.xlabel('Counties Of New Jersey')\n",
    "plt.show() "
   ]
  },
  {
   "cell_type": "code",
   "execution_count": null,
   "metadata": {},
   "outputs": [],
   "source": []
  }
 ],
 "metadata": {
  "kernelspec": {
   "display_name": "Python 3",
   "language": "python",
   "name": "python3"
  },
  "language_info": {
   "codemirror_mode": {
    "name": "ipython",
    "version": 3
   },
   "file_extension": ".py",
   "mimetype": "text/x-python",
   "name": "python",
   "nbconvert_exporter": "python",
   "pygments_lexer": "ipython3",
   "version": "3.7.3"
  }
 },
 "nbformat": 4,
 "nbformat_minor": 2
}
